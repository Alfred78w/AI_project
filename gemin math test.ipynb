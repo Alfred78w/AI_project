{
  "cells": [
    {
      "cell_type": "markdown",
      "metadata": {
        "id": "view-in-github",
        "colab_type": "text"
      },
      "source": [
        "<a href=\"https://colab.research.google.com/github/Alfred78w/AI_project/blob/main/gemin%20math%20test.ipynb\" target=\"_parent\"><img src=\"https://colab.research.google.com/assets/colab-badge.svg\" alt=\"Open In Colab\"/></a>"
      ]
    },
    {
      "cell_type": "markdown",
      "metadata": {
        "id": "Tce3stUlHN0L"
      },
      "source": [
        "##### Copyright 2024 Google LLC."
      ]
    },
    {
      "cell_type": "code",
      "execution_count": null,
      "metadata": {
        "cellView": "form",
        "id": "tuOe1ymfHZPu"
      },
      "outputs": [],
      "source": [
        "#@title Licensed under the Apache License, Version 2.0 (the \"License\");\n",
        "# you may not use this file except in compliance with the License.\n",
        "# You may obtain a copy of the License at\n",
        "#\n",
        "# https://www.apache.org/licenses/LICENSE-2.0\n",
        "#\n",
        "# Unless required by applicable law or agreed to in writing, software\n",
        "# distributed under the License is distributed on an \"AS IS\" BASIS,\n",
        "# WITHOUT WARRANTIES OR CONDITIONS OF ANY KIND, either express or implied.\n",
        "# See the License for the specific language governing permissions and\n",
        "# limitations under the License."
      ]
    },
    {
      "cell_type": "markdown",
      "metadata": {
        "id": "-QhPWE1lwZHH"
      },
      "source": [
        "# Gemini API Python quickstart"
      ]
    },
    {
      "cell_type": "markdown",
      "metadata": {
        "id": "fa7c47ae6451"
      },
      "source": [
        "<table class=\"tfo-notebook-buttons\" align=\"left\">\n",
        "  <td>\n",
        "    <a target=\"_blank\" href=\"https://ai.google.dev/tutorials/quickstart_colab\"><img src=\"https://ai.google.dev/static/site-assets/images/docs/notebook-site-button.png\" height=\"32\" width=\"32\" />View on Google AI</a>\n",
        "  </td>\n",
        "  <td>\n",
        "    <a target=\"_blank\" href=\"https://colab.research.google.com/github/google/generative-ai-docs/blob/main/site/en/tutorials/quickstart_colab.ipynb\"><img src=\"https://www.tensorflow.org/images/colab_logo_32px.png\" />Run in Google Colab</a>\n",
        "  </td>\n",
        "  <td>\n",
        "    <a target=\"_blank\" href=\"https://github.com/google/generative-ai-docs/blob/main/site/en/tutorials/quickstart_colab.ipynb\"><img src=\"https://www.tensorflow.org/images/GitHub-Mark-32px.png\" />View source on GitHub</a>\n",
        "  </td>\n",
        "</table>"
      ]
    },
    {
      "cell_type": "markdown",
      "metadata": {
        "id": "db29b8d4247e"
      },
      "source": [
        "This tutorial shows you how to get started with the Gemini API using the Python SDK."
      ]
    },
    {
      "cell_type": "markdown",
      "metadata": {
        "id": "NNNg43Ymw54e"
      },
      "source": [
        "## Prerequisites\n",
        "\n",
        "You can run this tutorial in Google Colab, which doesn't require additional environment configuration.\n",
        "\n",
        "Alternatively, to complete this quickstart locally, see the Python guidance in [Get started with the Gemini API](https://ai.google.dev/tutorials/quickstart)."
      ]
    },
    {
      "cell_type": "markdown",
      "metadata": {
        "id": "kHkHARdb1ZID"
      },
      "source": [
        "## Install the SDK\n",
        "\n",
        "The Python SDK for the Gemini API is contained in the [`google-generativeai`](https://pypi.org/project/google-generativeai/) package. Install the dependency using pip:"
      ]
    },
    {
      "cell_type": "code",
      "execution_count": 2,
      "metadata": {
        "id": "J6Pd9SFJ1yVi"
      },
      "outputs": [],
      "source": [
        "!pip install -q -U google-generativeai"
      ]
    },
    {
      "cell_type": "markdown",
      "metadata": {
        "id": "EeMCtmx9ykyx"
      },
      "source": [
        "## Set up your API key\n",
        "\n",
        "To use the Gemini API, you'll need an API key. If you don't already have one, create a key in Google AI Studio.\n",
        "\n",
        "<a class=\"button\" href=\"https://aistudio.google.com/app/apikey\" target=\"_blank\" rel=\"noopener noreferrer\">Get an API key</a>\n",
        "\n",
        "In Colab, add the key to the secrets manager under the \"🔑\" in the left panel. Give it the name `GOOGLE_API_KEY`. Then pass the key to the SDK:"
      ]
    },
    {
      "cell_type": "code",
      "execution_count": 3,
      "metadata": {
        "id": "HTiaTu6O1LRC"
      },
      "outputs": [],
      "source": [
        "# Import the Python SDK\n",
        "import google.generativeai as genai\n",
        "# Used to securely store your API key\n",
        "from google.colab import userdata\n",
        "\n",
        "GOOGLE_API_KEY=userdata.get('GOOGLE_API_KEY')\n",
        "genai.configure(api_key=GOOGLE_API_KEY)"
      ]
    },
    {
      "cell_type": "markdown",
      "metadata": {
        "id": "CZPYk29o2No0"
      },
      "source": [
        "## Initialize the Generative Model\n",
        "\n",
        "Before you can make any API calls, you need to initialize the Generative Model."
      ]
    },
    {
      "cell_type": "code",
      "execution_count": 4,
      "metadata": {
        "id": "s-JqXcDe2hZ_"
      },
      "outputs": [],
      "source": [
        "model = genai.GenerativeModel('gemini-2.5-flash')"
      ]
    },
    {
      "cell_type": "markdown",
      "metadata": {
        "id": "nXxypzJH4MUl"
      },
      "source": [
        "## Generate text"
      ]
    },
    {
      "cell_type": "code",
      "execution_count": 7,
      "metadata": {
        "id": "j51mcrLD4Y2W",
        "outputId": "a6077482-7216-476b-a4ec-e8967f40dc62",
        "colab": {
          "base_uri": "https://localhost:8080/",
          "height": 714
        }
      },
      "outputs": [
        {
          "output_type": "stream",
          "name": "stdout",
          "text": [
            "Hello everyone! This looks like a fantastic problem to practice our skills with different operations. Don't worry, we'll break it down step by step, just like we always do!\n",
            "\n",
            "Our problem is: `1 + (-2) * 4 - (-3)`\n",
            "\n",
            "Before we jump in, what's the most important rule we need to remember when we have addition, subtraction, *and* multiplication all in one expression? Think about PEMDAS or BODMAS!\n",
            "\n",
            "That's right! The **Order of Operations**! This tells us *which* operation to do first, second, and so on.\n",
            "\n",
            "Looking at our problem: `1 + (-2) * 4 - (-3)`\n",
            "\n",
            "1.  **Step 1: Identify the operations.**\n",
            "    What different types of math operations do you see in this problem? (Hint: There's an addition, a multiplication, and a subtraction).\n",
            "\n",
            "2.  **Step 2: Prioritize based on the Order of Operations.**\n",
            "    According to PEMDAS/BODMAS, which operation comes first: Addition, Subtraction, or Multiplication?\n",
            "\n",
            "    You've got it! **Multiplication** takes priority.\n",
            "\n",
            "3.  **Step 3: Focus on the multiplication.**\n",
            "    I want you to focus *only* on the multiplication part of the problem right now: `(-2) * 4`.\n",
            "    Remember your rules for multiplying integers! What kind of number do you get when you multiply a negative number by a positive number?\n",
            "\n",
            "    Go ahead and figure out the result of `(-2) * 4`. Once you have that number, I want you to **rewrite the *entire* expression** with your new result in place of `(-2) * 4`. Keep everything else exactly as it was.\n",
            "\n",
            "4.  **Step 4: Deal with any tricky signs.**\n",
            "    Now, look at the expression you've rewritten. Do you see anything else that might need to be simplified before we do our final additions and subtractions? Pay close attention to the very end of the expression: `- (-3)`.\n",
            "\n",
            "    What happens when you have two negative signs right next to each other like that? What does \"subtracting a negative\" mean?\n",
            "\n",
            "    Excellent! It turns into an addition. So, now, **rewrite your entire expression *again***, incorporating what you just figured out about `- (-3)`.\n",
            "\n",
            "5.  **Step 5: Perform the remaining operations from left to right.**\n",
            "    What operations are left in your expression now? You should only have additions and subtractions.\n",
            "\n",
            "    When you only have addition and subtraction left, what's our rule for how we do them? Do we just go from left to right, or is there another rule?\n",
            "\n",
            "    Precisely! You now perform the remaining additions and subtractions **from left to right**. Take your time, do one operation at a time, and remember to keep track of your positive and negative numbers.\n",
            "\n",
            "Keep going! You're doing great! Follow these steps carefully, and you'll arrive at the correct answer. Show each step as you rewrite the expression!\n"
          ]
        }
      ],
      "source": [
        "response = model.generate_content('''You are a midle school math teacher.\n",
        "                                    Students need your help.\n",
        "                                    Guide them step by step explanation as a teqcher.\n",
        "                                    Don't provide the final answer.\n",
        "                                    Don't do any calculations.\n",
        "                                    Ansxer must be in the same language as the question.\n",
        "                                    Question: Clacul moi 1+(-2)*4-(-3)\n",
        "\n",
        "\n",
        "                                    ''')\n",
        "print(response.text)"
      ]
    },
    {
      "cell_type": "markdown",
      "metadata": {
        "id": "zUUAQS9u4biH"
      },
      "source": [
        "## What's next\n",
        "\n",
        "To learn more about working with the Gemini API, see the [Python tutorial](https://ai.google.dev/tutorials/python_quickstart).\n",
        "\n",
        "If you're new to generative AI models, you might want to look at the\n",
        "[concepts guide](https://ai.google.dev/docs/concepts) and the\n",
        "[Gemini API overview](https://ai.google.dev/docs/gemini_api_overview)."
      ]
    }
  ],
  "metadata": {
    "colab": {
      "name": "quickstart_colab.ipynb",
      "provenance": [],
      "include_colab_link": true
    },
    "kernelspec": {
      "display_name": "Python 3",
      "name": "python3"
    }
  },
  "nbformat": 4,
  "nbformat_minor": 0
}