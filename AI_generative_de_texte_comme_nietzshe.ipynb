{
  "nbformat": 4,
  "nbformat_minor": 0,
  "metadata": {
    "colab": {
      "provenance": [],
      "authorship_tag": "ABX9TyOeDFbTREKVBlGlaEOtvvUj",
      "include_colab_link": true
    },
    "kernelspec": {
      "name": "python3",
      "display_name": "Python 3"
    },
    "language_info": {
      "name": "python"
    }
  },
  "cells": [
    {
      "cell_type": "markdown",
      "metadata": {
        "id": "view-in-github",
        "colab_type": "text"
      },
      "source": [
        "<a href=\"https://colab.research.google.com/github/Alfred78w/AI_project/blob/main/AI_generative_de_texte_comme_nietzshe.ipynb\" target=\"_parent\"><img src=\"https://colab.research.google.com/assets/colab-badge.svg\" alt=\"Open In Colab\"/></a>"
      ]
    },
    {
      "cell_type": "code",
      "execution_count": null,
      "metadata": {
        "colab": {
          "base_uri": "https://localhost:8080/"
        },
        "id": "8WYwRISwMayz",
        "outputId": "f7fe2cce-eb93-42d7-ec97-de86c3303919"
      },
      "outputs": [
        {
          "output_type": "stream",
          "name": "stdout",
          "text": [
            "Corpus length: 600893\n"
          ]
        }
      ],
      "source": [
        "import keras\n",
        "import numpy as np\n",
        "import random\n",
        "import sys\n",
        "path = keras.utils.get_file('nietzsche.txt', origin='https://s3.amazonaws.com/text-datasets/nietzsche.txt')\n",
        "text = open(path).read().lower()\n",
        "print('Corpus length:', len(text))"
      ]
    },
    {
      "cell_type": "markdown",
      "source": [
        "You’ll extract sequences of 60 characters.\n",
        "You’ll sample a new sequence every three characters.\n",
        "Holds the extracted sequences\n",
        "Holds the targets (the follow-up characters)"
      ],
      "metadata": {
        "id": "9kKsuUEbNaXE"
      }
    },
    {
      "cell_type": "code",
      "source": [
        "maxlen = 60\n",
        "step = 3\n",
        "sentences = []\n",
        "next_chars = []"
      ],
      "metadata": {
        "id": "0W1XNObsM-gm"
      },
      "execution_count": null,
      "outputs": []
    },
    {
      "cell_type": "markdown",
      "source": [
        "Holds the targets (the follow-up characters).\n",
        "List of unique characters in the corpus. Dictionary that maps unique characters to their index in the list “chars”\n"
      ],
      "metadata": {
        "id": "GWmdg489OWY-"
      }
    },
    {
      "cell_type": "code",
      "source": [
        "for i in range(0, len(text) - maxlen, step):\n",
        "  sentences.append(text[i: i + maxlen])\n",
        "  next_chars.append(text[i + maxlen])\n",
        "print('Number of sequences:', len(sentences))\n",
        "\n",
        "chars = sorted(list(set(text)))\n",
        "print('Unique characters:', len(chars))\n",
        "char_indices = dict((char, chars.index(char)) for char in chars)"
      ],
      "metadata": {
        "colab": {
          "base_uri": "https://localhost:8080/"
        },
        "id": "ZaRcS_9sNkI5",
        "outputId": "c5419be6-080a-4d6f-b5c5-a80dc3e295eb"
      },
      "execution_count": null,
      "outputs": [
        {
          "output_type": "stream",
          "name": "stdout",
          "text": [
            "Number of sequences: 400556\n",
            "Unique characters: 57\n"
          ]
        }
      ]
    },
    {
      "cell_type": "markdown",
      "source": [
        "One-hot encodes\n",
        "the characters\n",
        "into binary arrays"
      ],
      "metadata": {
        "id": "8cHu0OjjWUOU"
      }
    },
    {
      "cell_type": "code",
      "source": [
        "x = np.zeros((len(sentences), maxlen, len(chars)), dtype=np.bool_)\n",
        "y = np.zeros((len(sentences), len(chars)), dtype=np.bool_)\n",
        "for i, sentence in enumerate(sentences):\n",
        "    for t, char in enumerate(sentence):\n",
        "        x[i, t, char_indices[char]] = 1\n",
        "    y[i, char_indices[next_chars[i]]] = 1"
      ],
      "metadata": {
        "id": "kxPUb54CX2Wt"
      },
      "execution_count": null,
      "outputs": []
    },
    {
      "cell_type": "code",
      "source": [
        "print('Vectorization...')\n",
        "x = np.zeros((len(sentences), maxlen, len(chars)), dtype=bool)\n",
        "y = np.zeros((len(sentences), len(chars)), dtype=bool)\n",
        "for i, sentence in enumerate(sentences):\n",
        "  for t, char in enumerate(sentence):\n",
        "    x[i, t, char_indices[char]] = 1\n",
        "  y[i, char_indices[next_chars[i]]] = 1"
      ],
      "metadata": {
        "colab": {
          "base_uri": "https://localhost:8080/"
        },
        "id": "ueDEBFK9WWez",
        "outputId": "cc7d2a15-68bb-4df4-8807-477d023f79af"
      },
      "execution_count": null,
      "outputs": [
        {
          "output_type": "stream",
          "name": "stdout",
          "text": [
            "Vectorization...\n"
          ]
        }
      ]
    },
    {
      "cell_type": "markdown",
      "source": [
        " Single-layer LSTM model for next-character prediction"
      ],
      "metadata": {
        "id": "B_f6EYHZZWI3"
      }
    },
    {
      "cell_type": "code",
      "source": [
        "from keras import layers\n",
        "model = keras.models.Sequential()\n",
        "model.add(layers.LSTM(128, input_shape=(maxlen, len(chars))))\n",
        "model.add(layers.Dense(len(chars), activation='softmax'))"
      ],
      "metadata": {
        "id": "B6FHAXhlZPJ7"
      },
      "execution_count": null,
      "outputs": []
    },
    {
      "cell_type": "markdown",
      "source": [
        "Model compilation configuration"
      ],
      "metadata": {
        "id": "bMv10Dj9ZYGJ"
      }
    },
    {
      "cell_type": "code",
      "source": [
        "optimizer = keras.optimizers.RMSprop(learning_rate=0.01)\n",
        "model.compile(loss='categorical_crossentropy', optimizer=optimizer)"
      ],
      "metadata": {
        "id": "TH5X6u6ZZhFR"
      },
      "execution_count": null,
      "outputs": []
    },
    {
      "cell_type": "markdown",
      "source": [
        "Function to sample the next character given the model’s predictions"
      ],
      "metadata": {
        "id": "vYc0HMZCZ2uB"
      }
    },
    {
      "cell_type": "code",
      "source": [
        "def sample(preds, temperature=1.0):\n",
        "  preds = np.asarray(preds).astype('float64')\n",
        "  preds = np.log(preds) / temperature\n",
        "  exp_preds = np.exp(preds)\n",
        "  preds = exp_preds / np.sum(exp_preds)\n",
        "  probas = np.random.multinomial(1, preds, 1)\n",
        "  return np.argmax(probas)"
      ],
      "metadata": {
        "id": "oXaJ8DgSZ4FL"
      },
      "execution_count": null,
      "outputs": []
    },
    {
      "cell_type": "markdown",
      "source": [
        "FIt the model"
      ],
      "metadata": {
        "id": "m2zwjZ6akL4c"
      }
    },
    {
      "cell_type": "code",
      "source": [
        "for epoch in range(1, 60):\n",
        "  print('epoch', epoch)\n",
        "  model.fit(x, y, batch_size=128, epochs=1)\n",
        "  start_index = random.randint(0, len(text) - maxlen - 1)\n",
        "  generated_text = text[start_index: start_index + maxlen]\n",
        "  print('--- Generating with seed: \"' + generated_text + '\"')\n",
        "\n",
        "  for temperature in [0.2, 0.5, 1.0, 1.2]:\n",
        "    print('------ temperature:', temperature)\n",
        "    sys.stdout.write(generated_text)\n",
        "    for i in range(400):\n",
        "        sampled = np.zeros((1, maxlen, len(chars)))\n",
        "        for t, char in enumerate(generated_text):\n",
        "           sampled[0, t, char_indices[char]] = 1.\n",
        "        preds = model.predict(sampled, verbose=0)[0]\n",
        "        next_index = sample(preds, temperature)\n",
        "        next_char = chars[next_index]\n",
        "        generated_text += next_char\n",
        "        generated_text = generated_text[1:]\n",
        "        sys.stdout.write(next_char)\n",
        "        sys.stdout.flush()"
      ],
      "metadata": {
        "colab": {
          "base_uri": "https://localhost:8080/"
        },
        "id": "LrM-_5VWkC3r",
        "outputId": "ed5888b2-b3e9-4326-ccb8-df2783d6e4b3"
      },
      "execution_count": null,
      "outputs": [
        {
          "output_type": "stream",
          "name": "stdout",
          "text": [
            "epoch 1\n",
            "3130/3130 [==============================] - 310s 99ms/step - loss: 1.4002\n",
            "--- Generating with seed: \"oken of as a being existing from all eternity, and\n",
            "with refe\"\n",
            "------ temperature: 0.2\n",
            "oken of as a being existing from all eternity, and\n",
            "with referent from the subject and conscience and such and that who was suffering and stands from that is a subjectice and conscience and that that is a man as a man is in the condition of the same moral conscience and a disting that that is a soul is a sension and that he without the subject is as a man and that is a man is a man, and that is a man and a stands from the same subjectice of the same such an------ temperature: 0.5\n",
            "an and a stands from the same subjectice of the same such and in the ways without that who is a matters to the matter of the same inconceive he\n",
            "would so man is the developments who are before the subject and future that the contradicts and that preperson to conflict and prefurt to the medicious problem with the fruntaring of the same as as it is to be\n",
            "unsense of man is sense without all that of in a man and possession, and consistence and and that so insti------ temperature: 1.0\n",
            " a man and possession, and consistence and and that so instinctionally know with instance certainly belikeng, and\n",
            "that the\n",
            "possest and cale rudible spepted in happined, place than was   see and future himself and seeming, as if the part at \"acpurrain because instincts, ho\n",
            "regeopeths but one wished sort thus willed flown, as a foundation, \"undeble!\" to your also wise believe. desire withd what to which\n",
            "takes and that walts, and enloguates souln bad, our hel------ temperature: 1.2\n",
            "hich\n",
            "takes and that walts, and enloguates souln bad, our helrle manbauring,\"\n",
            "that hith,1 a\n",
            "will have herted his\n",
            "erval,--woulds sow-hoeded every hor weeker \n",
            "\n",
            "really and spice noospe pose who harlvend it, law, perhens te \"our rargatic brugeg-held nece ren commyin\" witnofe instin that is fald thus well of the world,\n",
            "what is blessing have was helrg\n",
            "ordinardation is that it w.\n",
            "psers could see\n",
            "ong:if, clye\n",
            "sport\" hasituates hasiss. in run unpermjes up at hand, pepoch 2\n",
            "3130/3130 [==============================] - 306s 98ms/step - loss: 1.3747\n",
            "--- Generating with seed: \"t himself (quite apart from the point\n",
            "of view of its usefuln\"\n",
            "------ temperature: 0.2\n",
            "t himself (quite apart from the point\n",
            "of view of its usefulness of the sense of the consequences of the strengthing and devil to be the strengthing which is also all the strength of the enthually and self the survive to perhaps the enthually and self-esse that is a destine in the sure the strength and sure of the strengthing which is almost the strong and for the enthually and the sure of the consequences of the sense of the even of the strong of the stran------ temperature: 0.5\n",
            "equences of the sense of the even of the strong of the strange and severity and spirit and the entiony of morals of responsible to distincts, which is not will not even to intellectual things and selfie of men as is involved and strong and sense condections.\n",
            "\n",
            "222. the\n",
            "greatest disclucing the present and \"saint of depreting the best the delight and self explances and consequence of the entire\n",
            "person, a person and the souls are not only to our doged of home ------ temperature: 1.0\n",
            "n, a person and the souls are not only to our doged of home himself actority, essentialle faith and protting or to its application of the existence onestily\n",
            "potents undeness,\n",
            "that slaod far as will possible in freeh that to nothealuty: not the certain typels of heal--and\n",
            "it development\n",
            "of the ethicaps\n",
            "\"purrising of book of which immorality which, no man, as destrabbed always gove be\n",
            "virtuest, in the\n",
            "practific!\n",
            "\n",
            "\n",
            "126\n",
            "\n",
            "=as\"reas of churmstop\n",
            "is not for instan------ temperature: 1.2\n",
            "he\n",
            "practific!\n",
            "\n",
            "\n",
            "126\n",
            "\n",
            "=as\"reas of churmstop\n",
            "is not for instance a measure..\n",
            "f(r joy,aber and the emo instincts!\n",
            ".ons abomitte, of-cagnity\n",
            "in\n",
            "\"man\"! \"mutating all, therefore\n",
            "in fine of morals,\n",
            "were which selfed,\n",
            "light\" to sevition.=--the\n",
            "ecepjoficys, the counted-free a heul. ih?     firdness and josl?--then\n",
            "upesunger-still something\n",
            "also bowable?--the\n",
            "gringscess\" greate, uhe\n",
            "wsaring and the dacnive,\n",
            " on the greated xear, nevey who is not only believe into thepoch 3\n",
            "3130/3130 [==============================] - 304s 97ms/step - loss: 1.3556\n",
            "--- Generating with seed: \"ose thinking merely of narrow utility are despised;\n",
            "moreover\"\n",
            "------ temperature: 0.2\n",
            "ose thinking merely of narrow utility are despised;\n",
            "moreover will to the and and the self-again and delight in the world to the world of the sense of the senses of the sense of the senses to the world and will to the entice and the senses of the spiritual and so that the senses to the senses to the world of the spiritual and the sense of the world and and and in the same existence of the world for the same to the self-contradiction of the sense of the sens------ temperature: 0.5\n",
            " the same to the self-contradiction of the sense of the sense of the philosopher withouting in which the condition, and the spirituality, which is well to an enticerip and and condition of the specied with the included if the soul of spirituality of the objection of spiritless of the ways and interpretable the single presence of the\n",
            "same invention of every self-contradictly means of himself then it may shond\n",
            "the and the man is germans thinking of the spiri------ temperature: 1.0\n",
            "t may shond\n",
            "the and the man is germans thinking of the spiritler\n",
            "in\n",
            "other could \"antievenanism, if this is\n",
            "were\n",
            "has even in signing to things to affort: and \"a tooty which the anywhath only and interpret themselves, the exisemnt for the\n",
            "humons and that the learn acquirion\n",
            "art and unurable , as a worm, in\n",
            "our vitured, the last and allure from through the worst the\n",
            "man of thereby involvion of mankind as by the worls, betrection thinking is senses at the most------ temperature: 1.2\n",
            "d as by the worls, betrection thinking is senses at the most culturable highorically in divineful.. why\n",
            "with womal, aid facul toce, shoulds happiness with\n",
            "idvaris of the race of the\n",
            "mesthy se knowing, looks it is prise; he where, as thas hunworudancy,\" it has have supposing the new forver to leass sweat asconged,\n",
            "striatuon?\n",
            "whas ideas;\n",
            "\n",
            "\n",
            "\n",
            "\n",
            "athers iver proud\n",
            "belief that\n",
            "most smprine, as i one been\n",
            "an\n",
            "home was, possible, chaaragified\n",
            "olkness and mapfersity.vepoch 4\n",
            "3130/3130 [==============================] - 299s 95ms/step - loss: 1.3406\n",
            "--- Generating with seed: \"ridgement--perhaps as the morality of\n",
            "their environment, the\"\n",
            "------ temperature: 0.2\n",
            "ridgement--perhaps as the morality of\n",
            "their environment, the god and disposing of the problem of the present and some does not at the same that it is a most problem and desire and contempt of the problem of man is a most present and the sentiments of the same that is the problem of the soul and disposing the same a most problem that the most expedient and souls and the path of the problem of the most problem of man is a more and man is a most present one o------ temperature: 0.5\n",
            "ost problem of man is a more and man is a most present one of his most latter is the hand it is an all protected the present, and this every disposing more discorning of an actions in the men at leads to the experience of sympathy and might one is as a thought and superiority and domines--literamed of the belief in his personal and man is a most predimpor=shed the throughts in the present-disposence of the sentemation of a men she plained hitherto experien------ temperature: 1.0\n",
            "ce of the sentemation of a men she plained hitherto experience\n",
            "privioring--the impulse\": with la, the fedier his etpore he one\n",
            "another\n",
            "is not be a that she lights and matters, he must not is not establists, as the ewe?\" ambi some discornalities of defel-to flibturs,ies meanings. they always, and himarle--\n",
            "\n",
            "\n",
            "as is feeling an expedded--and \"gendetoo from \"bounds are imhised hitherto execue trantleitated lionign teach\n",
            "thoughts to ucholy dependence is ournonge------ temperature: 1.2\n",
            "ated lionign teach\n",
            "thoughts to ucholy dependence is ournonged and unpunsionage: that said bring almost nearer--pietes, slecuden--for almost a laikswination\n",
            "of \n",
            "would be the postince, old specially\n",
            "yess given that in the master ha\"r of\n",
            "thysevaly with i voleml pass mothers and obnec2ath,\" pluencetsifbing rusin a aristiblely,\n",
            "hunger -passion, and wizeself, things,\n",
            "from feens! more exerent motes; it sp-his \"herd-if allo, one wishes the precalfical philosophy, epoch 5\n",
            "3130/3130 [==============================] - 305s 97ms/step - loss: 1.3295\n",
            "--- Generating with seed: \"ne passing by). to plants all things are,\n",
            "as a rule, at rest\"\n",
            "------ temperature: 0.2\n",
            "ne passing by). to plants all things are,\n",
            "as a rule, at restrations of the states of the present in the sense of the same time of the strength of the sense of the strength of the strength to the spirit in the sense of the sense of the same time of the sense of the sense of the states of the sense of the sense of the sense of the philosophers in the spirit of the spirit to the present dispensation of the same thing of the conscience, he is all the sense of ------ temperature: 0.5\n",
            "of the same thing of the conscience, he is all the sense of the predetture of the spirit\n",
            "the supposing in the conscience of over our states of the present do not modes of the sense of the desires and peace of the done of all the man to have not to class and means of philosophers.=--so defers the has let us be mankind,\n",
            "indeed the dangerous constant tente of the man is being in the intellectually\n",
            "neverous are not a disposing and the\n",
            "interpretation of the mor------ temperature: 1.0\n",
            "verous are not a disposing and the\n",
            "interpretation of the more voosities.\n",
            "\n",
            "\n",
            "    -contemp, relations, artistarsh has not, as a deulthis; for namely as every tedve by mepthy of mortibly philosophy. and scearncle, which sen interpresion, which novers\n",
            "have no degards to dokness,\" nature of houte\n",
            "of order to means of generaty\n",
            "withouting the premidacted as a se\n",
            "adortained because there is at the singershome,\n",
            "wxee may be enravait to be at other:\n",
            "as\n",
            "adned,\" with a ------ temperature: 1.2\n",
            "ome,\n",
            "wxee may be enravait to be at other:\n",
            "as\n",
            "adned,\" with a own, inclidian all argrelis of heqktescists likes rosestoualy made phy. that thus forces, \"he is nothing almost or, aomk-got that that old infiilest acheved to conceal\"! notwiszings, into drkable rich, in shy principal\n",
            "new dispostly sppations of saigp ance cruenningt existing (religion\n",
            "amplew victory, in a\n",
            "pelypath\n",
            "of\n",
            "the. theke is ascetic each weom\n",
            "and-resel,\" slie, mo revercated\n",
            "and wort\n",
            "impersiepoch 6\n",
            "3130/3130 [==============================] - 308s 98ms/step - loss: 1.3187\n",
            "--- Generating with seed: \"the outside, from above and\n",
            "below, as a species of events an\"\n",
            "------ temperature: 0.2\n",
            "the outside, from above and\n",
            "below, as a species of events and the morality of the desirable to seem and the struggless and self-desirable of the strong and also an action of the same of the strong and also the convented and the strong and sufferings of the senses to the conceptions of the distinguish the existence of the same of the world which is also all the consequently as the senses of the fain the most experience of the senses to the superiorish and t------ temperature: 0.5\n",
            "n the most experience of the senses to the superiorish and the most lable as it is among one of himself as\n",
            "seems and understand and what he not concernings in the charm of a man also have the best find the aged of which the domain of a superior\n",
            "discommension and only that what is concernings of the names of the\n",
            "charms, and what is bad enough to acts who contemplate of strangest persons of the most waying in the most experience of the belief of which seem t------ temperature: 1.0\n",
            " waying in the most experience of the belief of which seem to cause then something understand for inclination than same divining uild about bow the degrads\n",
            "often or those\n",
            "god for ether child earved, only does life, and\n",
            "chant a woman himself amongaty,\n",
            "about the commander than our impulse alno haves that of pioning and pickmal bibl hoped at experience were the more it. the\n",
            "spirit rule\",\" and in spirits of caosinely. what a good property to now day\n",
            "apocial. t------ temperature: 1.2\n",
            "its of caosinely. what a good property to now day\n",
            "apocial. the rest natureness (nashary fariness, but any\n",
            "famulian priverty\n",
            "with criticss, has are indu, itsconmments undeound, whenhest, than we material.\n",
            "\n",
            "\n",
            "76\n",
            "\n",
            "=negedied could\n",
            "all coarseby of tu-frirmpul and muri to yhable of the proper classiful; i my oreoos; this ethoss of\n",
            "platom, and woman--for i miss: teet one a way, quabt--the deutrously practibaectary wanding--for one\n",
            "would\n",
            "cersperful, for himself,\n",
            "eaepoch 7\n",
            "3130/3130 [==============================] - 306s 98ms/step - loss: 1.3110\n",
            "--- Generating with seed: \"irror if his own self appeared to him in the\n",
            "highest degree \"\n",
            "------ temperature: 0.2\n",
            "irror if his own self appeared to him in the\n",
            "highest degree of the same and and the strong and the stronger of the states and the senses to the fact and the senses to be a servile to the bad far as a thing as a desire to be possible to the same and the sentent to the same and the senses to be a conscience, and all the strong and the same from the same and the senses to be a former and its own spection and the states the strong and the sense of the philosop------ temperature: 0.5\n",
            "tion and the states the strong and the sense of the philosophy has been of the its also the faith, and all something that the strong of the desire of the discovered to the senses to be must be the words also in the material and desire to be deter in the senses to the facts of any stranger of the former to the same again to its who can be many are successite and the contraing or so far above all in the most the soul, the spirit, and the purmision of the wor------ temperature: 1.0\n",
            " the most the soul, the spirit, and the purmision of the word alme, are walleris of its dreams, and disrest the god on the\n",
            "before the densthounds and do to the gre disdolences and finds the desurest\n",
            " power--it were there, it is will down sonous historys account a subjection to partly does now\n",
            "oberiatedness and certain at a whow this sicome tempedie to abligaie, and to a who one must adopow hims music. it will be him. it may\n",
            "woman\n",
            "distrust even to be dupani------ temperature: 1.2\n",
            "sic. it will be him. it may\n",
            "woman\n",
            "distrust even to be dupanity,\n",
            "\n",
            "history in them. to a sky,ha\" its\n",
            "objectations and  more besthend suppong, are men ambidational,\n",
            "andrial,\n",
            "the same other stepfict of a hundred aferary--i ready\n",
            "a disvorce ivilgations of\n",
            "any, acvordity if all\n",
            "\"knowledgemel.\n",
            "\n",
            " enveatter-possician seriousnasural\n",
            "and rhars inteadaced, although it\n",
            " sha\n",
            "aronugation, that no greeths of its person uply absejve when it is may be\n",
            "uditation above allveaepoch 8\n",
            " 663/3130 [=====>........................] - ETA: 4:01 - loss: 1.2826"
          ]
        }
      ]
    },
    {
      "cell_type": "markdown",
      "source": [
        "Generates text"
      ],
      "metadata": {
        "id": "o0HfalIckVrB"
      }
    },
    {
      "cell_type": "code",
      "source": [
        "for temperature in [0.2, 0.5, 1.0, 1.2]:\n",
        "  print('------ temperature:', temperature)\n",
        "  sys.stdout.write(generated_text)\n",
        "  for i in range(400):\n",
        "    sampled = np.zeros((1, maxlen, len(chars)))\n",
        "    for t, char in enumerate(generated_text):\n",
        "      sampled[0, t, char_indices[char]] = 1.\n",
        "    preds = model.predict(sampled, verbose=0)[0]\n",
        "    next_index = sample(preds, temperature)\n",
        "    next_char = chars[next_index]\n",
        "    generated_text += next_char\n",
        "    generated_text = generated_text[1:]\n",
        "    sys.stdout.write(next_char)\n",
        "    sys.stdout.flush()"
      ],
      "metadata": {
        "colab": {
          "base_uri": "https://localhost:8080/"
        },
        "id": "W2oEz3i3kYMe",
        "outputId": "c1fb7c04-00b0-40a5-e87d-2dd87a1b326e"
      },
      "execution_count": null,
      "outputs": [
        {
          "output_type": "stream",
          "name": "stdout",
          "text": [
            "------ temperature: 0.2\n",
            "inligerstinies  asmose.-it take\n",
            "sidgative, and only with this same the such a such a such a such a such a such a such a such a presing and the such a such a suphing and the same and in the self and in the spirit and it is a such a such a such a such a such a such a such a such a such a such a such a such a such a vilition and all the self and self the such a such a such a such a such a presing and the strom in the such a self and and in the something is a ------ temperature: 0.5\n",
            " the strom in the such a self and and in the something is a such impains and man is a such a wore in the diffical an east we indiesting in the specision and all the such the suffiring in the reason there or are of the indeasive of the prigions of the some spirit in the simper and the sirding and under and a such has with mess why his was a priction and endur of the domant and perhaps of the selfical and with the wore of the condigine the reliby and pridend------ temperature: 1.0\n",
            "al and with the wore of the condigine the reliby and pridend and must lits on the brequitij and\n",
            "ut he champethic altable rigices)--for whichin despiment most purtais,--which is a all the bosh of the suopligic spirculosment.\n",
            "the cictiviticä, atowhoore with the--has ean. is namblesss), the lose hus whithis wemht vilusting of betoavor\n",
            "the perhops, in allito free rygodwees in therach a spire to peesowily dardin is\n",
            "to a of the\n",
            "gard\n",
            "s, was iffaction or which mok------ temperature: 1.2\n",
            "ily dardin is\n",
            "to a of the\n",
            "gard\n",
            "s, was iffaction or which moke it\n",
            "idst all wor n\n",
            "neverapeqivater--in the\n",
            "scay they\n",
            "itqueditia;\n",
            "fouth to\n",
            "his digruitatious jurcir estitic the secuacioulo:y throughevepited\"\n",
            "devil of gikinsts?--bughots horobor becoge.\n",
            "geod and.\n",
            ".\n",
            "lafe deach cruttion and this institiw this goqi \"atying himself displidic lough, taknediut, giniisul aspuct stelers tfur it keistsibles and \n",
            "has promigut only\n",
            "thermorm moderwists once oulivisy say, ink"
          ]
        }
      ]
    },
    {
      "cell_type": "markdown",
      "source": [
        "fit the model gpt"
      ],
      "metadata": {
        "id": "age0KkqlaGl6"
      }
    },
    {
      "cell_type": "code",
      "source": [
        "model.fit(x, y, batch_size=128, epochs=1)"
      ],
      "metadata": {
        "colab": {
          "base_uri": "https://localhost:8080/"
        },
        "id": "taIF1nuAbRZs",
        "outputId": "856387e0-3118-423c-8c46-31b41df808ee"
      },
      "execution_count": null,
      "outputs": [
        {
          "output_type": "stream",
          "name": "stdout",
          "text": [
            "1565/1565 [==============================] - 155s 98ms/step - loss: 2.0211\n"
          ]
        },
        {
          "output_type": "execute_result",
          "data": {
            "text/plain": [
              "<keras.src.callbacks.History at 0x7bb9e5159810>"
            ]
          },
          "metadata": {},
          "execution_count": 20
        }
      ]
    },
    {
      "cell_type": "code",
      "source": [
        "# Generating text\n",
        "start_index = random.randint(0, len(text) - maxlen - 1)\n",
        "generated_text = text[start_index: start_index + maxlen]"
      ],
      "metadata": {
        "id": "VJVVRY4FbXHD"
      },
      "execution_count": null,
      "outputs": []
    },
    {
      "cell_type": "code",
      "source": [
        "for temperature in [0.2, 0.5, 1.0, 1.2]:\n",
        "    print('\\n------ Temperature:', temperature)\n",
        "    sys.stdout.write(generated_text)\n",
        "\n",
        "    for i in range(400):\n",
        "        sampled = np.zeros((1, maxlen, len(chars)))\n",
        "        for t, char in enumerate(generated_text):\n",
        "            sampled[0, t, char_indices[char]] = 1.\n",
        "\n",
        "        preds = model.predict(sampled, verbose=0)[0]\n",
        "        next_index = np.random.choice(len(chars), p=preds)\n",
        "        next_char = chars[next_index]\n",
        "\n",
        "        generated_text += next_char\n",
        "        generated_text = generated_text[1:]\n",
        "\n",
        "        sys.stdout.write(next_char)\n",
        "        sys.stdout.flush()\n",
        "print()"
      ],
      "metadata": {
        "colab": {
          "base_uri": "https://localhost:8080/"
        },
        "id": "LemgmdtvjN0r",
        "outputId": "7f192a80-1f4e-4798-90d8-a8b5458ad12b"
      },
      "execution_count": null,
      "outputs": [
        {
          "output_type": "stream",
          "name": "stdout",
          "text": [
            "\n",
            "------ Temperature: 0.2\n",
            "t pleasure is caused by the display of\n",
            "our power over others\"--to faciment un\" live elstic inselverness,\n",
            "incentinial they sachout the adestief farct is eacist, in an\n",
            "aisted ain jidgest of to a fance and\n",
            "untrass oäntipely, givical, of seladie with,\n",
            "his veiss suffect as cormens oully man he causlibfe, )cioltic what is compoin such he brith nable of manj\n",
            "sam-nefich of which constincts in elrut\" and world zelief] vae is or edististreal\n",
            "the wansdiw\n",
            "lomes and is\n",
            "------ Temperature: 0.5\n",
            "orld zelief] vae is or edististreal\n",
            "the wansdiw\n",
            "lomes and is a hundiorient to have ont digars. the rades on nime,\" regencess of the weciss no a2ctil_tappitihments in the _emsembes? for ?outh,\n",
            "yeach and atsiter veby greary cintire if still may is to the slaint\n",
            "terpomally uncelta;\n",
            "and becaust delight pothiom of which horo,,\n",
            "-it which has, the racidust quais althelty\" with incimal litere, and\n",
            "issting why hand pry, there pless. of any and is mans to doing beli\n",
            "------ Temperature: 1.0\n",
            " why hand pry, there pless. of any and is mans to doing beliaked to fremumparts, worthing s\n",
            "ull quicclluss echorisms, the hispoustanday beapow\n",
            "moce a havig that is longing\n",
            "man\n",
            "his fact or aching. weln treathing he timue who respredies\n",
            "is horefantless with  uranligable) just's which contring. the bad, it degirieg. indifficting and in-vimatey (therre.\n",
            "be and xpation. which lithing and\n",
            "brogaded oul\n",
            "indistoin hit persubty, this\n",
            "recimer,\n",
            "he idserval cilw\n",
            "interp\n",
            "------ Temperature: 1.2\n",
            "ndistoin hit persubty, this\n",
            "recimer,\n",
            "he idserval cilw\n",
            "interplies free and in\n",
            "suphy intellence even\n",
            "kread? aremeal prilong of the fat it seass and\n",
            "more his forewher\n",
            "dingullt signd\n",
            "as prich to his for canfind and ling in my himself cance,\" is whother has vicible;--chrictremanin parlic-, be s\n",
            "reyame it usoperfect, and aislizates or scoiniltic and eyrimicerary of the riging (con cause tike. or man a, inligerstinies  asmose.-it take\n",
            "sidgative, and only with thi\n"
          ]
        }
      ]
    }
  ]
}