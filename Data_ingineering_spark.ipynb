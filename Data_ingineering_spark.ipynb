{
  "nbformat": 4,
  "nbformat_minor": 0,
  "metadata": {
    "colab": {
      "provenance": [],
      "mount_file_id": "1AdJqmLXKqXyJnvtcdjbh3Px9pAvyhT7u",
      "authorship_tag": "ABX9TyP5bVteRyc8Q0qrpITTuOfb",
      "include_colab_link": true
    },
    "kernelspec": {
      "name": "python3",
      "display_name": "Python 3"
    },
    "language_info": {
      "name": "python"
    }
  },
  "cells": [
    {
      "cell_type": "markdown",
      "metadata": {
        "id": "view-in-github",
        "colab_type": "text"
      },
      "source": [
        "<a href=\"https://colab.research.google.com/github/Alfred78w/AI_project/blob/main/Data_ingineering_spark.ipynb\" target=\"_parent\"><img src=\"https://colab.research.google.com/assets/colab-badge.svg\" alt=\"Open In Colab\"/></a>"
      ]
    },
    {
      "cell_type": "code",
      "execution_count": null,
      "metadata": {
        "id": "gaqJV9mGCqou"
      },
      "outputs": [],
      "source": [
        "import hashlib"
      ]
    },
    {
      "cell_type": "code",
      "source": [
        "def hash_file(filename, algorithm='sha256'):\n",
        "    # Ouvrir le fichier en mode binaire\n",
        "    with open(filename, 'rb') as f:\n",
        "        # Lire les données par morceaux\n",
        "        data = f.read()\n",
        "        # Choisir l'algorithme de hachage\n",
        "        if algorithm == 'sha256':\n",
        "            hash_object = hashlib.sha256()\n",
        "        elif algorithm == 'md5':\n",
        "            hash_object = hashlib.md5()\n",
        "        else:\n",
        "            raise ValueError(\"Algorithme de hachage non pris en charge.\")\n",
        "\n",
        "        # Mettre à jour l'objet de hachage avec les données lues\n",
        "        hash_object.update(data)\n",
        "\n",
        "        # Renvoyer la valeur de hachage en hexadécimal\n",
        "        return hash_object.hexdigest()\n",
        "\n",
        "# Chemin vers les deux fichiers que vous souhaitez comparer\n",
        "file_path_1 = '/content/drive/MyDrive/Datalake/01_RawDaata/SH1_DVF_2022.txt'\n",
        "file_path_2 = '/content/drive/MyDrive/Datalake/01_RawDaata/SH1_DVF_2022.txt'\n",
        "\n",
        "# Calculer la valeur de hachage pour les deux fichiers\n",
        "file_hash_1 = hash_file(file_path_1)\n",
        "file_hash_2 = hash_file(file_path_2)\n",
        "\n",
        "# Comparer les valeurs de hachage\n",
        "if file_hash_1 == file_hash_2:\n",
        "    print(\"Les fichiers ont la même intégrité.\")\n",
        "else:\n",
        "    print(\"Les fichiers ont une intégrité différente.\")\n",
        "\n"
      ],
      "metadata": {
        "colab": {
          "base_uri": "https://localhost:8080/"
        },
        "id": "FAWKVcXYOPFF",
        "outputId": "9e2d8160-40e9-4093-935e-dd99834086f9"
      },
      "execution_count": null,
      "outputs": [
        {
          "output_type": "stream",
          "name": "stdout",
          "text": [
            "Les fichiers ont la même intégrité.\n"
          ]
        }
      ]
    },
    {
      "cell_type": "code",
      "source": [
        "!pip install pyspark"
      ],
      "metadata": {
        "colab": {
          "base_uri": "https://localhost:8080/"
        },
        "id": "RNBPwmh0hHpo",
        "outputId": "d5d719ff-bf5e-46c0-df3a-831d9c202af6"
      },
      "execution_count": 1,
      "outputs": [
        {
          "output_type": "stream",
          "name": "stdout",
          "text": [
            "Collecting pyspark\n",
            "  Downloading pyspark-3.5.0.tar.gz (316.9 MB)\n",
            "\u001b[2K     \u001b[90m━━━━━━━━━━━━━━━━━━━━━━━━━━━━━━━━━━━━━━━━\u001b[0m \u001b[32m316.9/316.9 MB\u001b[0m \u001b[31m4.6 MB/s\u001b[0m eta \u001b[36m0:00:00\u001b[0m\n",
            "\u001b[?25h  Preparing metadata (setup.py) ... \u001b[?25l\u001b[?25hdone\n",
            "Requirement already satisfied: py4j==0.10.9.7 in /usr/local/lib/python3.10/dist-packages (from pyspark) (0.10.9.7)\n",
            "Building wheels for collected packages: pyspark\n",
            "  Building wheel for pyspark (setup.py) ... \u001b[?25l\u001b[?25hdone\n",
            "  Created wheel for pyspark: filename=pyspark-3.5.0-py2.py3-none-any.whl size=317425344 sha256=1e69d9c86a7e0c81762f5add48a17ccb5fae43a135d6801271c64d01a332fe9e\n",
            "  Stored in directory: /root/.cache/pip/wheels/41/4e/10/c2cf2467f71c678cfc8a6b9ac9241e5e44a01940da8fbb17fc\n",
            "Successfully built pyspark\n",
            "Installing collected packages: pyspark\n",
            "Successfully installed pyspark-3.5.0\n"
          ]
        }
      ]
    },
    {
      "cell_type": "code",
      "source": [
        "import matplotlib.pyplot as plt\n",
        "from pyspark.sql.functions import col"
      ],
      "metadata": {
        "id": "brDlEzWq-xus"
      },
      "execution_count": 39,
      "outputs": []
    },
    {
      "cell_type": "code",
      "source": [
        "from pyspark.sql import SparkSession\n",
        "\n",
        "# Créer une session Spark\n",
        "spark = SparkSession.builder.appName(\"MonApp\").getOrCreate()"
      ],
      "metadata": {
        "id": "c6xHxuWrk8jL"
      },
      "execution_count": 2,
      "outputs": []
    },
    {
      "cell_type": "code",
      "source": [
        "# Charger un fichier CSV en un DataFrame Spark\n",
        "df = spark.read.csv(\"/content/drive/MyDrive/Datalake/01_RawDaata/valeursfoncieres-2022.txt\", header=True, sep = \"|\")\n",
        "\n",
        "# Afficher les premières lignes du DataFrame\n",
        "df.show()"
      ],
      "metadata": {
        "colab": {
          "base_uri": "https://localhost:8080/"
        },
        "id": "uUM_OqsblVfz",
        "outputId": "ae0186fa-a628-430a-beb4-953617363516"
      },
      "execution_count": 3,
      "outputs": [
        {
          "output_type": "stream",
          "name": "stdout",
          "text": [
            "+-----------------------+------------------+--------------+--------------+--------------+--------------+--------------+--------------+-------------+---------------+---------------+-------+-----+------------+---------+-------------------+-----------+--------------------+----------------+------------+------------------+-------+-------+---------+-------+-------------------------+--------+--------------------------+--------+--------------------------+--------+--------------------------+--------+--------------------------+--------------+---------------+--------------------+-----------------+-------------------+-------------------------+--------------+-----------------------+---------------+\n",
            "|Identifiant de document|Reference document|1 Articles CGI|2 Articles CGI|3 Articles CGI|4 Articles CGI|5 Articles CGI|No disposition|Date mutation|Nature mutation|Valeur fonciere|No voie|B/T/Q|Type de voie|Code voie|               Voie|Code postal|             Commune|Code departement|Code commune|Prefixe de section|Section|No plan|No Volume|1er lot|Surface Carrez du 1er lot|2eme lot|Surface Carrez du 2eme lot|3eme lot|Surface Carrez du 3eme lot|4eme lot|Surface Carrez du 4eme lot|5eme lot|Surface Carrez du 5eme lot|Nombre de lots|Code type local|          Type local|Identifiant local|Surface reelle bati|Nombre pieces principales|Nature culture|Nature culture speciale|Surface terrain|\n",
            "+-----------------------+------------------+--------------+--------------+--------------+--------------+--------------+--------------+-------------+---------------+---------------+-------+-----+------------+---------+-------------------+-----------+--------------------+----------------+------------+------------------+-------+-------+---------+-------+-------------------------+--------+--------------------------+--------+--------------------------+--------+--------------------------+--------+--------------------------+--------------+---------------+--------------------+-----------------+-------------------+-------------------------+--------------+-----------------------+---------------+\n",
            "|                   NULL|              NULL|          NULL|          NULL|          NULL|          NULL|          NULL|        000001|   03/01/2022|          Vente|       55000,00|     13| NULL|         RUE|     2280|      DE LA LIBERTE|       1000|     BOURG-EN-BRESSE|              01|          53|              NULL|     AM|    102|     NULL|      7|                    24,10|    NULL|                      NULL|    NULL|                      NULL|    NULL|                      NULL|    NULL|                      NULL|             1|              2|         Appartement|             NULL|                 24|                        1|          NULL|                   NULL|           NULL|\n",
            "|                   NULL|              NULL|          NULL|          NULL|          NULL|          NULL|          NULL|        000001|   03/01/2022|          Vente|      143000,00|   NULL| NULL|        NULL|     B010|       CHAMP COCHET|       1480|           SAVIGNEUX|              01|         398|              NULL|     ZE|    184|     NULL|   NULL|                     NULL|    NULL|                      NULL|    NULL|                      NULL|    NULL|                      NULL|    NULL|                      NULL|             0|           NULL|                NULL|             NULL|               NULL|                     NULL|             S|                   NULL|             84|\n",
            "|                   NULL|              NULL|          NULL|          NULL|          NULL|          NULL|          NULL|        000001|   03/01/2022|          Vente|      143000,00|   NULL| NULL|        NULL|     B010|       CHAMP COCHET|       1480|           SAVIGNEUX|              01|         398|              NULL|     ZE|    185|     NULL|   NULL|                     NULL|    NULL|                      NULL|    NULL|                      NULL|    NULL|                      NULL|    NULL|                      NULL|             0|           NULL|                NULL|             NULL|               NULL|                     NULL|             S|                   NULL|             88|\n",
            "|                   NULL|              NULL|          NULL|          NULL|          NULL|          NULL|          NULL|        000001|   03/01/2022|          Vente|      143000,00|     98| NULL|         RTE|     0055|       DE LA DOMBES|       1480|           SAVIGNEUX|              01|         398|              NULL|     ZE|    187|     NULL|      1|                   123,23|    NULL|                      NULL|    NULL|                      NULL|    NULL|                      NULL|    NULL|                      NULL|             1|              2|         Appartement|             NULL|                140|                        3|          NULL|                   NULL|           NULL|\n",
            "|                   NULL|              NULL|          NULL|          NULL|          NULL|          NULL|          NULL|        000001|   04/01/2022|          Vente|         300,00|   NULL| NULL|        NULL|     B031|        AUX PIERRES|       1480|   MESSIMY SUR SAONE|              01|         243|              NULL|      A|    643|     NULL|   NULL|                     NULL|    NULL|                      NULL|    NULL|                      NULL|    NULL|                      NULL|    NULL|                      NULL|             0|           NULL|                NULL|             NULL|               NULL|                     NULL|             T|                   NULL|            510|\n",
            "|                   NULL|              NULL|          NULL|          NULL|          NULL|          NULL|          NULL|        000001|   06/01/2022|          Vente|      255000,00|    282| NULL|         RTE|     0130|        DE POISATON|       1560|    MANTENAY-MONTLIN|              01|         230|              NULL|     ZM|    124|     NULL|   NULL|                     NULL|    NULL|                      NULL|    NULL|                      NULL|    NULL|                      NULL|    NULL|                      NULL|             0|              1|              Maison|             NULL|                108|                        5|             S|                   NULL|            649|\n",
            "|                   NULL|              NULL|          NULL|          NULL|          NULL|          NULL|          NULL|        000001|   06/01/2022|          Vente|      255000,00|   NULL| NULL|        NULL|     B047|      LA FREGONIERE|       1560|    MANTENAY-MONTLIN|              01|         230|              NULL|     ZM|    126|     NULL|   NULL|                     NULL|    NULL|                      NULL|    NULL|                      NULL|    NULL|                      NULL|    NULL|                      NULL|             0|           NULL|                NULL|             NULL|               NULL|                     NULL|             S|                   NULL|            360|\n",
            "|                   NULL|              NULL|          NULL|          NULL|          NULL|          NULL|          NULL|        000001|   03/01/2022|          Vente|      525000,00|   NULL| NULL|          PL|     0300|DE LA CROIX BLANCHE|       1390|SAINT-ANDRE-DE-CORCY|              01|         333|              NULL|     AN|     23|     NULL|   NULL|                     NULL|    NULL|                      NULL|    NULL|                      NULL|    NULL|                      NULL|    NULL|                      NULL|             0|           NULL|                NULL|             NULL|               NULL|                     NULL|             S|                   NULL|             50|\n",
            "|                   NULL|              NULL|          NULL|          NULL|          NULL|          NULL|          NULL|        000001|   03/01/2022|          Vente|      525000,00|    217| NULL|          PL|     0300|DE LA CROIX BLANCHE|       1390|SAINT-ANDRE-DE-CORCY|              01|         333|              NULL|     AN|    186|     NULL|   NULL|                     NULL|    NULL|                      NULL|    NULL|                      NULL|    NULL|                      NULL|    NULL|                      NULL|             0|              2|         Appartement|             NULL|                126|                        4|             S|                   NULL|            628|\n",
            "|                   NULL|              NULL|          NULL|          NULL|          NULL|          NULL|          NULL|        000001|   03/01/2022|          Vente|      525000,00|    217| NULL|          PL|     0300|DE LA CROIX BLANCHE|       1390|SAINT-ANDRE-DE-CORCY|              01|         333|              NULL|     AN|    186|     NULL|   NULL|                     NULL|    NULL|                      NULL|    NULL|                      NULL|    NULL|                      NULL|    NULL|                      NULL|             0|              4|Local industriel....|             NULL|                424|                        0|             S|                   NULL|            628|\n",
            "|                   NULL|              NULL|          NULL|          NULL|          NULL|          NULL|          NULL|        000001|   05/01/2022|          Vente|      254200,00|   NULL| NULL|        NULL|     B036|        MAS ROLLAND|       1700|SAINT-MAURICE-DE-...|              01|         376|              NULL|     AC|    589|     NULL|   NULL|                     NULL|    NULL|                      NULL|    NULL|                      NULL|    NULL|                      NULL|    NULL|                      NULL|             0|           NULL|                NULL|             NULL|               NULL|                     NULL|            AB|                   NULL|            784|\n",
            "|                   NULL|              NULL|          NULL|          NULL|          NULL|          NULL|          NULL|        000001|   05/01/2022|          Vente|       64000,00|     12| NULL|          BD|     0620|            DE BROU|       1000|     BOURG-EN-BRESSE|              01|          53|              NULL|     BC|    223|     NULL|      7|                    39,05|    NULL|                      NULL|    NULL|                      NULL|    NULL|                      NULL|    NULL|                      NULL|             1|              3|          Dépendance|             NULL|                  0|                        0|          NULL|                   NULL|           NULL|\n",
            "|                   NULL|              NULL|          NULL|          NULL|          NULL|          NULL|          NULL|        000001|   05/01/2022|          Vente|       64000,00|     12| NULL|          BD|     0620|            DE BROU|       1000|     BOURG-EN-BRESSE|              01|          53|              NULL|     BC|    223|     NULL|      7|                    39,05|    NULL|                      NULL|    NULL|                      NULL|    NULL|                      NULL|    NULL|                      NULL|             1|              2|         Appartement|             NULL|                117|                        2|          NULL|                   NULL|           NULL|\n",
            "|                   NULL|              NULL|          NULL|          NULL|          NULL|          NULL|          NULL|        000001|   03/01/2022|          Vente|      140000,00|      6| NULL|         RUE|     0397|       DE BEAUGENCY|       1000|     BOURG-EN-BRESSE|              01|          53|              NULL|     BZ|    175|     NULL|   NULL|                     NULL|    NULL|                      NULL|    NULL|                      NULL|    NULL|                      NULL|    NULL|                      NULL|             0|              1|              Maison|             NULL|                100|                        4|             S|                   NULL|            796|\n",
            "|                   NULL|              NULL|          NULL|          NULL|          NULL|          NULL|          NULL|        000001|   03/01/2022|          Vente|      140000,00|   NULL| NULL|         RUE|     0397|       DE BEAUGENCY|       1000|     BOURG-EN-BRESSE|              01|          53|              NULL|     BZ|    223|     NULL|   NULL|                     NULL|    NULL|                      NULL|    NULL|                      NULL|    NULL|                      NULL|    NULL|                      NULL|             0|           NULL|                NULL|             NULL|               NULL|                     NULL|            AG|                    IMM|            260|\n",
            "|                   NULL|              NULL|          NULL|          NULL|          NULL|          NULL|          NULL|        000001|   03/01/2022|          Vente|      140000,00|   NULL| NULL|         RUE|     0397|       DE BEAUGENCY|       1000|     BOURG-EN-BRESSE|              01|          53|              NULL|     BZ|    224|     NULL|   NULL|                     NULL|    NULL|                      NULL|    NULL|                      NULL|    NULL|                      NULL|    NULL|                      NULL|             0|           NULL|                NULL|             NULL|               NULL|                     NULL|            AG|                    IMM|            590|\n",
            "|                   NULL|              NULL|          NULL|          NULL|          NULL|          NULL|          NULL|        000001|   03/01/2022|          Vente|      140000,00|   NULL| NULL|         RUE|     0397|       DE BEAUGENCY|       1000|     BOURG-EN-BRESSE|              01|          53|              NULL|     BZ|    241|     NULL|   NULL|                     NULL|    NULL|                      NULL|    NULL|                      NULL|    NULL|                      NULL|    NULL|                      NULL|             0|           NULL|                NULL|             NULL|               NULL|                     NULL|            AG|                    IMM|            262|\n",
            "|                   NULL|              NULL|          NULL|          NULL|          NULL|          NULL|          NULL|        000001|   04/01/2022|          Vente|      134000,00|     13| NULL|         RUE|     1070|          DE CUIRON|       1000|     BOURG-EN-BRESSE|              01|          53|              NULL|     CS|    321|     NULL|      4|                    70,02|    NULL|                      NULL|    NULL|                      NULL|    NULL|                      NULL|    NULL|                      NULL|             1|              2|         Appartement|             NULL|                 46|                        1|          NULL|                   NULL|           NULL|\n",
            "|                   NULL|              NULL|          NULL|          NULL|          NULL|          NULL|          NULL|        000001|   04/01/2022|          Vente|      134000,00|     13| NULL|         RUE|     1070|          DE CUIRON|       1000|     BOURG-EN-BRESSE|              01|          53|              NULL|     CS|    321|     NULL|      4|                    70,02|    NULL|                      NULL|    NULL|                      NULL|    NULL|                      NULL|    NULL|                      NULL|             1|              3|          Dépendance|             NULL|                  0|                        0|          NULL|                   NULL|           NULL|\n",
            "|                   NULL|              NULL|          NULL|          NULL|          NULL|          NULL|          NULL|        000001|   04/01/2022|          Vente|      134000,00|     13| NULL|         RUE|     1070|          DE CUIRON|       1000|     BOURG-EN-BRESSE|              01|          53|              NULL|     CS|    321|     NULL|      4|                    70,02|    NULL|                      NULL|    NULL|                      NULL|    NULL|                      NULL|    NULL|                      NULL|             1|              3|          Dépendance|             NULL|                  0|                        0|          NULL|                   NULL|           NULL|\n",
            "+-----------------------+------------------+--------------+--------------+--------------+--------------+--------------+--------------+-------------+---------------+---------------+-------+-----+------------+---------+-------------------+-----------+--------------------+----------------+------------+------------------+-------+-------+---------+-------+-------------------------+--------+--------------------------+--------+--------------------------+--------+--------------------------+--------+--------------------------+--------------+---------------+--------------------+-----------------+-------------------+-------------------------+--------------+-----------------------+---------------+\n",
            "only showing top 20 rows\n",
            "\n"
          ]
        }
      ]
    },
    {
      "cell_type": "markdown",
      "source": [
        "SH1_DVF2019"
      ],
      "metadata": {
        "id": "7wiyo5yMszfR"
      }
    },
    {
      "cell_type": "code",
      "source": [
        "# Charger un fichier CSV en un DataFrame Spark\n",
        "DVF_2019 = spark.read.csv(\"/content/drive/MyDrive/Datalake/01_RawDaata/SH1_DVF_2019.txt\", header=True, sep = \"|\")\n",
        "\n",
        "# Afficher les premières lignes du DataFrame\n",
        "DVF_2019.show()"
      ],
      "metadata": {
        "colab": {
          "base_uri": "https://localhost:8080/"
        },
        "id": "OOq7-vN0sygt",
        "outputId": "42c99341-ba9f-47b0-dc15-c897fe196c3a"
      },
      "execution_count": 16,
      "outputs": [
        {
          "output_type": "stream",
          "name": "stdout",
          "text": [
            "+----------------------------------------------------------------+\n",
            "|297ec1b1a624575502596d17cd20e509eaeacad3b0bc956305d4aacd23d966a0|\n",
            "+----------------------------------------------------------------+\n",
            "+----------------------------------------------------------------+\n",
            "\n"
          ]
        }
      ]
    },
    {
      "cell_type": "code",
      "source": [
        "# Afficher la taille de la base de données\n",
        "num_cols = len(df.columns)\n",
        "print(\"Taille de la base de données : \", (df.count(), num_cols))"
      ],
      "metadata": {
        "colab": {
          "base_uri": "https://localhost:8080/"
        },
        "id": "gfmHRXjkmGxI",
        "outputId": "152faf21-c3cf-45ce-9239-1522883afae4"
      },
      "execution_count": 8,
      "outputs": [
        {
          "output_type": "stream",
          "name": "stdout",
          "text": [
            "Taille de la base de données :  (4617590, 43)\n"
          ]
        }
      ]
    },
    {
      "cell_type": "code",
      "source": [
        "# Afficher une vue des éléments d'une colonne spécifique\n",
        "column_name = \"Nature mutation\"\n",
        "column_view = df.groupBy(column_name).count()\n",
        "\n",
        "# Afficher la vue\n",
        "column_view.show()"
      ],
      "metadata": {
        "colab": {
          "base_uri": "https://localhost:8080/"
        },
        "id": "FOTCFjAeplUB",
        "outputId": "6b15252b-baf5-4c04-b207-b71345240805"
      },
      "execution_count": 9,
      "outputs": [
        {
          "output_type": "stream",
          "name": "stdout",
          "text": [
            "+--------------------+-------+\n",
            "|     Nature mutation|  count|\n",
            "+--------------------+-------+\n",
            "|       Expropriation|    902|\n",
            "|Vente en l'état f...| 280574|\n",
            "|Vente terrain à b...|  14268|\n",
            "|             Echange|  45200|\n",
            "|               Vente|4267222|\n",
            "|        Adjudication|   9424|\n",
            "+--------------------+-------+\n",
            "\n"
          ]
        }
      ]
    },
    {
      "cell_type": "markdown",
      "source": [
        "Change format2022"
      ],
      "metadata": {
        "id": "bMq33gZaq39F"
      }
    },
    {
      "cell_type": "code",
      "source": [
        "# Spécifiez le chemin où vous souhaitez sauvegarder le fichier Parquet\n",
        "chemin_de_sauvegarde = \"/content/drive/MyDrive/Datalake/02_FormatChange/DVF_2022.parquet\""
      ],
      "metadata": {
        "id": "WyjF19AQq2Fz"
      },
      "execution_count": 14,
      "outputs": []
    },
    {
      "cell_type": "code",
      "source": [
        "df.write.parquet(chemin_de_sauvegarde)"
      ],
      "metadata": {
        "id": "y2W7G2iBrc0r"
      },
      "execution_count": 15,
      "outputs": []
    },
    {
      "cell_type": "markdown",
      "source": [
        "Change format 2021"
      ],
      "metadata": {
        "id": "SIRj0qBKv1QV"
      }
    },
    {
      "cell_type": "code",
      "source": [
        "# Charger un fichier CSV en un DataFrame Spark\n",
        "df_21 = spark.read.csv(\"/content/drive/MyDrive/Datalake/01_RawDaata/valeursfoncieres-2021.txt\", header=True, sep = \"|\")\n",
        "\n",
        "# Afficher les premières lignes du DataFrame\n",
        "df_21.show()"
      ],
      "metadata": {
        "id": "Qsq53qi7wkFC"
      },
      "execution_count": null,
      "outputs": []
    },
    {
      "cell_type": "code",
      "source": [
        "# Spécifiez le chemin où vous souhaitez sauvegarder le fichier Parquet\n",
        "chemin_de_sauvegarde_21 = \"/content/drive/MyDrive/Datalake/02_FormatChange/DVF_2021.parquet\""
      ],
      "metadata": {
        "id": "9DEg94oTv8TG"
      },
      "execution_count": 19,
      "outputs": []
    },
    {
      "cell_type": "code",
      "source": [
        "df_21.write.parquet(chemin_de_sauvegarde_21)"
      ],
      "metadata": {
        "id": "AdwLEZFtwLYs"
      },
      "execution_count": 20,
      "outputs": []
    },
    {
      "cell_type": "markdown",
      "source": [
        "Change format DVF_2020"
      ],
      "metadata": {
        "id": "rX8kOiJNw4eS"
      }
    },
    {
      "cell_type": "code",
      "source": [
        "# Charger un fichier CSV en un DataFrame Spark\n",
        "df_20 = spark.read.csv(\"/content/drive/MyDrive/Datalake/01_RawDaata/valeursfoncieres-2020.txt\", header=True, sep = \"|\")\n",
        "\n",
        "# Afficher les premières lignes du DataFrame\n",
        "df_20.show()"
      ],
      "metadata": {
        "id": "dr7LGcfRxBGW"
      },
      "execution_count": null,
      "outputs": []
    },
    {
      "cell_type": "code",
      "source": [
        "# Spécifiez le chemin où vous souhaitez sauvegarder le fichier Parquet\n",
        "chemin_de_sauvegarde_20 = \"/content/drive/MyDrive/Datalake/02_FormatChange/DVF_2020.parquet\""
      ],
      "metadata": {
        "id": "DHxBYe_JxRTk"
      },
      "execution_count": 23,
      "outputs": []
    },
    {
      "cell_type": "code",
      "source": [
        "df_20.write.parquet(chemin_de_sauvegarde_20)"
      ],
      "metadata": {
        "id": "jaevEQOhxXyM"
      },
      "execution_count": 24,
      "outputs": []
    },
    {
      "cell_type": "markdown",
      "source": [
        "Change format DVF_2019"
      ],
      "metadata": {
        "id": "qakNKdNlxp4N"
      }
    },
    {
      "cell_type": "code",
      "source": [
        "# Charger un fichier CSV en un DataFrame Spark\n",
        "df_19 = spark.read.csv(\"/content/drive/MyDrive/Datalake/01_RawDaata/valeursfoncieres-2019.txt\", header=True, sep = \"|\")\n",
        "\n",
        "# Afficher les premières lignes du DataFrame\n",
        "df_19.show()"
      ],
      "metadata": {
        "id": "XjlDkoz-xvlv"
      },
      "execution_count": null,
      "outputs": []
    },
    {
      "cell_type": "code",
      "source": [
        "# Spécifiez le chemin où vous souhaitez sauvegarder le fichier Parquet\n",
        "chemin_de_sauvegarde_19 = \"/content/drive/MyDrive/Datalake/02_FormatChange/DVF_2019.parquet\""
      ],
      "metadata": {
        "id": "_qPw2Pb8zEon"
      },
      "execution_count": 26,
      "outputs": []
    },
    {
      "cell_type": "code",
      "source": [
        "df_19.write.parquet(chemin_de_sauvegarde_19)"
      ],
      "metadata": {
        "id": "PHlOOYyzzKrE"
      },
      "execution_count": 27,
      "outputs": []
    },
    {
      "cell_type": "markdown",
      "source": [
        "Lecture du fichier au format paquet"
      ],
      "metadata": {
        "id": "DByK4nx0vAmv"
      }
    },
    {
      "cell_type": "code",
      "source": [
        "# Charger le fichier au format parquet\n",
        "df_paquet_22 = spark.read.parquet(\"/content/drive/MyDrive/Datalake/02_FormatChange/DVF_2022.parquet\")\n",
        "\n",
        "# Compter le nombre d'enregistrements\n",
        "count_paquet = df_paquet_22.count()\n",
        "\n",
        "# Afficher le nombre d'enregistrements\n",
        "print(\"Le nombre total d'enregistrements dans le fichier parquet est :\", count_paquet)\n",
        "df_paquet_22.show()"
      ],
      "metadata": {
        "id": "PXxpCQEAu_NA"
      },
      "execution_count": null,
      "outputs": []
    },
    {
      "cell_type": "code",
      "source": [
        "# Charger le fichier au format parquet\n",
        "df_paquet_21 = spark.read.parquet(\"/content/drive/MyDrive/Datalake/02_FormatChange/DVF_2021.parquet\")\n"
      ],
      "metadata": {
        "id": "ZZa80dCe0wBX"
      },
      "execution_count": 29,
      "outputs": []
    },
    {
      "cell_type": "code",
      "source": [
        "# Charger le fichier au format parquet\n",
        "df_paquet_20 = spark.read.parquet(\"/content/drive/MyDrive/Datalake/02_FormatChange/DVF_2020.parquet\")\n"
      ],
      "metadata": {
        "id": "XfO33dAS08lw"
      },
      "execution_count": 30,
      "outputs": []
    },
    {
      "cell_type": "code",
      "source": [
        "# Charger le fichier au format parquet\n",
        "df_paquet_19 = spark.read.parquet(\"/content/drive/MyDrive/Datalake/02_FormatChange/DVF_2019.parquet\")"
      ],
      "metadata": {
        "id": "939UUClL1L2C"
      },
      "execution_count": 31,
      "outputs": []
    },
    {
      "cell_type": "markdown",
      "source": [
        "Preprocessing"
      ],
      "metadata": {
        "id": "rCCnHZh-1eGd"
      }
    },
    {
      "cell_type": "code",
      "source": [
        "df_paquet_22.show()\n",
        "\n",
        "# Afficher une vue des éléments d'une colonne spécifique\n",
        "column_name = \"Nature mutation\"\n",
        "Nature_mutation_column_view = df_paquet_22.groupBy(column_name).count()\n",
        "\n",
        "# Afficher la vue\n",
        "Nature_mutation_column_view.show()\n",
        "\n",
        "# Afficher une vue des éléments d'une colonne spécifique\n",
        "column_date = \"Code departement\"\n",
        "Date_mutation_column_view = df_paquet_22.groupBy(column_date).count()\n",
        "\n",
        "# Afficher la vue\n",
        "Date_mutation_column_view.show()\n"
      ],
      "metadata": {
        "id": "1S-xXsk_1hj0"
      },
      "execution_count": null,
      "outputs": []
    },
    {
      "cell_type": "code",
      "source": [
        "# Sélectionner les colonnes que vous souhaitez utiliser\n",
        "selected_columns = df_paquet_22.select(\"Code departement\", \"Nature mutation\", \"Date mutation\")  # Remplacez par les noms de vos colonnes\n",
        "\n",
        "# Afficher les 20 premières lignes des colonnes sélectionnées\n",
        "selected_columns.show()"
      ],
      "metadata": {
        "colab": {
          "base_uri": "https://localhost:8080/"
        },
        "id": "jyliSRGM7LuH",
        "outputId": "537595b4-5cba-4eee-f493-16d1c8c5c05c"
      },
      "execution_count": 38,
      "outputs": [
        {
          "output_type": "stream",
          "name": "stdout",
          "text": [
            "+----------------+--------------------+-------------+\n",
            "|Code departement|     Nature mutation|Date mutation|\n",
            "+----------------+--------------------+-------------+\n",
            "|              25|               Vente|   11/08/2022|\n",
            "|              25|               Vente|   11/08/2022|\n",
            "|              25|Vente en l'état f...|   23/08/2022|\n",
            "|              25|Vente en l'état f...|   23/08/2022|\n",
            "|              25|               Vente|   26/08/2022|\n",
            "|              25|               Vente|   26/08/2022|\n",
            "|              25|               Vente|   25/08/2022|\n",
            "|              25|               Vente|   25/08/2022|\n",
            "|              25|               Vente|   25/08/2022|\n",
            "|              25|Vente en l'état f...|   25/08/2022|\n",
            "|              25|Vente en l'état f...|   25/08/2022|\n",
            "|              25|               Vente|   22/08/2022|\n",
            "|              25|               Vente|   22/08/2022|\n",
            "|              25|               Vente|   22/08/2022|\n",
            "|              25|               Vente|   22/08/2022|\n",
            "|              25|               Vente|   22/08/2022|\n",
            "|              25|               Vente|   23/08/2022|\n",
            "|              25|               Vente|   23/08/2022|\n",
            "|              25|               Vente|   23/08/2022|\n",
            "|              25|               Vente|   23/08/2022|\n",
            "+----------------+--------------------+-------------+\n",
            "only showing top 20 rows\n",
            "\n"
          ]
        }
      ]
    },
    {
      "cell_type": "code",
      "source": [
        "\n",
        "# Groupement par date mutation et comptage\n",
        "grouped_data = df_paquet_22.groupBy(\"date mutation\").count()\n",
        "\n",
        "# Collecter les données à visualiser\n",
        "dates = [str(row.date_mutation) for row in grouped_data.collect()]\n",
        "counts = [row['count'] for row in grouped_data.collect()]\n",
        "\n",
        "# Créer un graphique en barres avec matplotlib\n",
        "plt.bar(dates, counts, color='skyblue')\n",
        "\n",
        "# Ajouter un titre et des étiquettes d'axe\n",
        "plt.title('Nombre de mutations par date')\n",
        "plt.xlabel('Date de mutation')\n",
        "plt.ylabel('Nombre de mutations')\n",
        "\n",
        "# Rotation des étiquettes de l'axe des x pour une meilleure lisibilité\n",
        "plt.xticks(rotation=45)\n",
        "\n",
        "# Afficher le graphique\n",
        "plt.show()"
      ],
      "metadata": {
        "id": "Yo4M6iZt-Nv3"
      },
      "execution_count": null,
      "outputs": []
    }
  ]
}