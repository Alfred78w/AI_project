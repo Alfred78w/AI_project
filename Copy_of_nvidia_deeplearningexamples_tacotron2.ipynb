{
  "cells": [
    {
      "cell_type": "markdown",
      "metadata": {
        "id": "view-in-github",
        "colab_type": "text"
      },
      "source": [
        "<a href=\"https://colab.research.google.com/github/Alfred78w/AI_project/blob/main/Copy_of_nvidia_deeplearningexamples_tacotron2.ipynb\" target=\"_parent\"><img src=\"https://colab.research.google.com/assets/colab-badge.svg\" alt=\"Open In Colab\"/></a>"
      ]
    },
    {
      "cell_type": "markdown",
      "id": "2da88647",
      "metadata": {
        "id": "2da88647"
      },
      "source": [
        "### This notebook requires a GPU runtime to run.\n",
        "### Please select the menu option \"Runtime\" -> \"Change runtime type\", select \"Hardware Accelerator\" -> \"GPU\" and click \"SAVE\"\n",
        "\n",
        "----------------------------------------------------------------------\n",
        "\n",
        "# Tacotron 2\n",
        "\n",
        "*Author: NVIDIA*\n",
        "\n",
        "**The Tacotron 2 model for generating mel spectrograms from text**\n",
        "\n",
        "<img src=\"https://pytorch.org/assets/images/tacotron2_diagram.png\" alt=\"alt\" width=\"50%\"/>\n",
        "\n",
        "\n",
        "\n",
        "### Model Description\n",
        "\n",
        "The Tacotron 2 and WaveGlow model form a text-to-speech system that enables user to synthesise a natural sounding speech from raw transcripts without any additional prosody information. The Tacotron 2 model produces mel spectrograms from input text using encoder-decoder architecture. WaveGlow (also available via torch.hub) is a flow-based model that consumes the mel spectrograms to generate speech.\n",
        "\n",
        "This implementation of Tacotron 2 model differs from the model described in the paper. Our implementation uses Dropout instead of Zoneout to regularize the LSTM layers.\n",
        "\n",
        "### Example\n",
        "\n",
        "In the example below:\n",
        "- pretrained Tacotron2 and Waveglow models are loaded from torch.hub\n",
        "- Given a tensor representation of the input text (\"Hello world, I missed you so much\"), Tacotron2 generates a Mel spectrogram as shown on the illustration\n",
        "- Waveglow generates sound given the mel spectrogram\n",
        "- the output sound is saved in an 'audio.wav' file\n",
        "\n",
        "To run the example you need some extra python packages installed.\n",
        "These are needed for preprocessing the text and audio, as well as for display and input / output."
      ]
    },
    {
      "cell_type": "code",
      "execution_count": null,
      "id": "4a5e1b76",
      "metadata": {
        "id": "4a5e1b76"
      },
      "outputs": [],
      "source": [
        "%%bash\n",
        "pip install numpy scipy librosa unidecode inflect librosa\n",
        "apt-get update\n",
        "apt-get install -y libsndfile1"
      ]
    },
    {
      "cell_type": "markdown",
      "id": "9c619963",
      "metadata": {
        "id": "9c619963"
      },
      "source": [
        "Load the Tacotron2 model pre-trained on [LJ Speech dataset](https://keithito.com/LJ-Speech-Dataset/) and prepare it for inference:"
      ]
    },
    {
      "cell_type": "code",
      "execution_count": null,
      "id": "59146109",
      "metadata": {
        "id": "59146109"
      },
      "outputs": [],
      "source": [
        "import torch\n",
        "tacotron2 = torch.hub.load('NVIDIA/DeepLearningExamples:torchhub', 'nvidia_tacotron2', model_math='fp16')\n",
        "tacotron2 = tacotron2.to('cuda')\n",
        "tacotron2.eval()"
      ]
    },
    {
      "cell_type": "markdown",
      "id": "b683b84e",
      "metadata": {
        "id": "b683b84e"
      },
      "source": [
        "Load pretrained WaveGlow model"
      ]
    },
    {
      "cell_type": "code",
      "execution_count": null,
      "id": "e9fe9992",
      "metadata": {
        "id": "e9fe9992"
      },
      "outputs": [],
      "source": [
        "waveglow = torch.hub.load('NVIDIA/DeepLearningExamples:torchhub', 'nvidia_waveglow', model_math='fp16')\n",
        "waveglow = waveglow.remove_weightnorm(waveglow)\n",
        "waveglow = waveglow.to('cuda')\n",
        "waveglow.eval()"
      ]
    },
    {
      "cell_type": "markdown",
      "id": "3efced17",
      "metadata": {
        "id": "3efced17"
      },
      "source": [
        "Now, let's make the model say:"
      ]
    },
    {
      "cell_type": "code",
      "execution_count": null,
      "id": "cbc6b97e",
      "metadata": {
        "id": "cbc6b97e"
      },
      "outputs": [],
      "source": [
        "text = \"Hello world, I missed you so much.\""
      ]
    },
    {
      "cell_type": "markdown",
      "id": "3ff806b8",
      "metadata": {
        "id": "3ff806b8"
      },
      "source": [
        "Format the input using utility methods"
      ]
    },
    {
      "cell_type": "code",
      "execution_count": null,
      "id": "c5969603",
      "metadata": {
        "id": "c5969603"
      },
      "outputs": [],
      "source": [
        "utils = torch.hub.load('NVIDIA/DeepLearningExamples:torchhub', 'nvidia_tts_utils')\n",
        "sequences, lengths = utils.prepare_input_sequence([text])"
      ]
    },
    {
      "cell_type": "markdown",
      "id": "16de6e72",
      "metadata": {
        "id": "16de6e72"
      },
      "source": [
        "Run the chained models:"
      ]
    },
    {
      "cell_type": "code",
      "execution_count": null,
      "id": "02e90661",
      "metadata": {
        "id": "02e90661"
      },
      "outputs": [],
      "source": [
        "with torch.no_grad():\n",
        "    mel, _, _ = tacotron2.infer(sequences, lengths)\n",
        "    audio = waveglow.infer(mel)\n",
        "audio_numpy = audio[0].data.cpu().numpy()\n",
        "rate = 22050"
      ]
    },
    {
      "cell_type": "markdown",
      "id": "c1632c9f",
      "metadata": {
        "id": "c1632c9f"
      },
      "source": [
        "You can write it to a file and listen to it"
      ]
    },
    {
      "cell_type": "code",
      "execution_count": null,
      "id": "54c0b850",
      "metadata": {
        "id": "54c0b850"
      },
      "outputs": [],
      "source": [
        "from scipy.io.wavfile import write\n",
        "write(\"audio.wav\", rate, audio_numpy)"
      ]
    },
    {
      "cell_type": "markdown",
      "id": "5ad1c43f",
      "metadata": {
        "id": "5ad1c43f"
      },
      "source": [
        "Alternatively, play it right away in a notebook with IPython widgets"
      ]
    },
    {
      "cell_type": "code",
      "execution_count": null,
      "id": "a3cbb2d8",
      "metadata": {
        "id": "a3cbb2d8"
      },
      "outputs": [],
      "source": [
        "from IPython.display import Audio\n",
        "Audio(audio_numpy, rate=rate)"
      ]
    },
    {
      "cell_type": "markdown",
      "id": "0863e77e",
      "metadata": {
        "id": "0863e77e"
      },
      "source": [
        "### Details\n",
        "For detailed information on model input and output, training recipies, inference and performance visit: [github](https://github.com/NVIDIA/DeepLearningExamples/tree/master/PyTorch/SpeechSynthesis/Tacotron2) and/or [NGC](https://ngc.nvidia.com/catalog/resources/nvidia:tacotron_2_and_waveglow_for_pytorch)\n",
        "\n",
        "### References\n",
        "\n",
        " - [Natural TTS Synthesis by Conditioning WaveNet on Mel Spectrogram Predictions](https://arxiv.org/abs/1712.05884)\n",
        " - [WaveGlow: A Flow-based Generative Network for Speech Synthesis](https://arxiv.org/abs/1811.00002)\n",
        " - [Tacotron2 and WaveGlow on NGC](https://ngc.nvidia.com/catalog/resources/nvidia:tacotron_2_and_waveglow_for_pytorch)\n",
        " - [Tacotron2 and Waveglow on github](https://github.com/NVIDIA/DeepLearningExamples/tree/master/PyTorch/SpeechSynthesis/Tacotron2)"
      ]
    }
  ],
  "metadata": {
    "colab": {
      "provenance": [],
      "include_colab_link": true
    }
  },
  "nbformat": 4,
  "nbformat_minor": 5
}